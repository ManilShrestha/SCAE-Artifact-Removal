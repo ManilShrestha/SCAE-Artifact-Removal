{
 "cells": [
  {
   "cell_type": "code",
   "execution_count": 1,
   "metadata": {},
   "outputs": [],
   "source": [
    "# Add the parent directory to sys.path\n",
    "import sys\n",
    "import os\n",
    "\n",
    "sys.path.append(os.path.abspath('..'))\n",
    "\n",
    "import numpy as np\n",
    "from torch.utils.data import DataLoader\n",
    "\n",
    "import torch.optim as optim\n",
    "import torch\n",
    "import torch.nn as nn\n",
    "\n",
    "from tqdm.notebook import tqdm\n",
    "\n",
    "from CustomDatasets import SCAEDataset\n",
    "from Models import StackedConvAutoencoder"
   ]
  },
  {
   "cell_type": "code",
   "execution_count": 2,
   "metadata": {},
   "outputs": [
    {
     "name": "stdout",
     "output_type": "stream",
     "text": [
      "Dataset size: 22099\n",
      "First image shape: torch.Size([1, 64, 64]), Label: 1\n"
     ]
    }
   ],
   "source": [
    "train_dataset = SCAEDataset(root_dir=\"../data/train\")\n",
    "val_dataset = SCAEDataset(root_dir=\"../data/val\")\n",
    "test_dataset = SCAEDataset(root_dir=\"../data/test\")\n",
    "\n",
    "\n",
    "print(f\"Dataset size: {len(train_dataset)}\")\n",
    "\n",
    "# Getting the first sample\n",
    "image, label = train_dataset[0]\n",
    "print(f\"First image shape: {image.shape}, Label: {label}\")\n"
   ]
  },
  {
   "cell_type": "code",
   "execution_count": 3,
   "metadata": {},
   "outputs": [],
   "source": [
    "train_loader = DataLoader(train_dataset, batch_size=32, num_workers=4,shuffle=True, pin_memory=True)\n",
    "val_loader = DataLoader(val_dataset, batch_size=32, num_workers=4,shuffle=True, pin_memory=True)\n",
    "test_loader = DataLoader(test_dataset, batch_size=32, num_workers=4,shuffle=True, pin_memory=True)"
   ]
  },
  {
   "cell_type": "code",
   "execution_count": 4,
   "metadata": {},
   "outputs": [
    {
     "data": {
      "text/plain": [
       "StackedConvAutoencoder(\n",
       "  (conv1): Conv2d(1, 16, kernel_size=(3, 3), stride=(2, 2), padding=(1, 1))\n",
       "  (pool): MaxPool2d(kernel_size=2, stride=2, padding=0, dilation=1, ceil_mode=False)\n",
       "  (unpool): MaxUnpool2d(kernel_size=(2, 2), stride=(2, 2), padding=(0, 0))\n",
       "  (conv2): ConvTranspose2d(16, 1, kernel_size=(3, 3), stride=(2, 2), padding=(1, 1), output_padding=(1, 1))\n",
       ")"
      ]
     },
     "execution_count": 4,
     "metadata": {},
     "output_type": "execute_result"
    }
   ],
   "source": [
    "lr = 0.001\n",
    "\n",
    "model = StackedConvAutoencoder()\n",
    "criterion = nn.MSELoss()\n",
    "optimizer = optim.Adam(model.parameters(), lr=lr)\n",
    "\n",
    "\n",
    "device = torch.device('cuda' if torch.cuda.is_available() else 'cpu')\n",
    "\n",
    "model.to(device)"
   ]
  },
  {
   "cell_type": "code",
   "execution_count": 5,
   "metadata": {},
   "outputs": [
    {
     "data": {
      "application/vnd.jupyter.widget-view+json": {
       "model_id": "24ef42905f704ea79a5e77edcc3cb041",
       "version_major": 2,
       "version_minor": 0
      },
      "text/plain": [
       "  0%|          | 0/100 [00:00<?, ?it/s]"
      ]
     },
     "metadata": {},
     "output_type": "display_data"
    },
    {
     "name": "stdout",
     "output_type": "stream",
     "text": [
      "Epoch [1/100], Train Loss: 186.8649\n",
      "Validation Loss: 51.6047\n",
      "Validation loss decreased (inf --> 51.6047). Saving model...\n",
      "Epoch [2/100], Train Loss: 45.2052\n",
      "Validation Loss: 40.8512\n",
      "Validation loss decreased (51.6047 --> 40.8512). Saving model...\n",
      "Epoch [3/100], Train Loss: 39.2265\n",
      "Validation Loss: 37.9262\n",
      "Validation loss decreased (40.8512 --> 37.9262). Saving model...\n",
      "Epoch [4/100], Train Loss: 36.7678\n",
      "Validation Loss: 36.0333\n",
      "Validation loss decreased (37.9262 --> 36.0333). Saving model...\n",
      "Epoch [5/100], Train Loss: 35.5227\n",
      "Validation Loss: 34.7800\n",
      "Validation loss decreased (36.0333 --> 34.7800). Saving model...\n",
      "Epoch [6/100], Train Loss: 34.2948\n",
      "Validation Loss: 33.3816\n",
      "Validation loss decreased (34.7800 --> 33.3816). Saving model...\n",
      "Epoch [7/100], Train Loss: 32.5724\n",
      "Validation Loss: 31.6952\n",
      "Validation loss decreased (33.3816 --> 31.6952). Saving model...\n",
      "Epoch [8/100], Train Loss: 31.5847\n",
      "Validation Loss: 31.4885\n",
      "Validation loss decreased (31.6952 --> 31.4885). Saving model...\n",
      "Epoch [9/100], Train Loss: 31.6711\n",
      "Validation Loss: 32.2862\n",
      "Epoch [10/100], Train Loss: 32.9139\n",
      "Validation Loss: 31.9103\n",
      "Epoch [11/100], Train Loss: 30.9683\n",
      "Validation Loss: 30.1415\n",
      "Validation loss decreased (31.4885 --> 30.1415). Saving model...\n",
      "Epoch [12/100], Train Loss: 30.3662\n",
      "Validation Loss: 30.2211\n",
      "Epoch [13/100], Train Loss: 30.5735\n",
      "Validation Loss: 30.7228\n",
      "Epoch [14/100], Train Loss: 30.9043\n",
      "Validation Loss: 30.5869\n",
      "Epoch [15/100], Train Loss: 30.8181\n",
      "Validation Loss: 30.6675\n",
      "Epoch [16/100], Train Loss: 31.1247\n",
      "Validation Loss: 31.0172\n",
      "Epoch [17/100], Train Loss: 31.2740\n",
      "Validation Loss: 31.1844\n",
      "Epoch [18/100], Train Loss: 31.3637\n",
      "Validation Loss: 31.3277\n",
      "Epoch [19/100], Train Loss: 31.3317\n",
      "Validation Loss: 31.2734\n",
      "Epoch [20/100], Train Loss: 31.3305\n",
      "Validation Loss: 31.3330\n",
      "Epoch [21/100], Train Loss: 31.3535\n",
      "Validation Loss: 30.8871\n",
      "Epoch [22/100], Train Loss: 30.8008\n",
      "Validation Loss: 30.6312\n",
      "Epoch [23/100], Train Loss: 30.8037\n",
      "Validation Loss: 30.6676\n",
      "Epoch [24/100], Train Loss: 30.9724\n",
      "Validation Loss: 31.1097\n",
      "Epoch [25/100], Train Loss: 31.0900\n",
      "Validation Loss: 30.9064\n",
      "Epoch [26/100], Train Loss: 31.0307\n",
      "Validation Loss: 30.9552\n",
      "Epoch [27/100], Train Loss: 30.9755\n",
      "Validation Loss: 30.8818\n",
      "Epoch [28/100], Train Loss: 31.0181\n",
      "Validation Loss: 31.0148\n",
      "Epoch [29/100], Train Loss: 31.1529\n",
      "Validation Loss: 31.0774\n",
      "Epoch [30/100], Train Loss: 31.2356\n",
      "Validation Loss: 31.1281\n",
      "Epoch [31/100], Train Loss: 31.2812\n",
      "Validation Loss: 31.1354\n",
      "Epoch [32/100], Train Loss: 31.2797\n",
      "Validation Loss: 31.1974\n",
      "Epoch [33/100], Train Loss: 31.2977\n",
      "Validation Loss: 31.2088\n",
      "Epoch [34/100], Train Loss: 31.6001\n",
      "Validation Loss: 31.7271\n",
      "Epoch [35/100], Train Loss: 31.7651\n",
      "Validation Loss: 31.6012\n",
      "Epoch [36/100], Train Loss: 31.4820\n",
      "Validation Loss: 31.7989\n",
      "Epoch [37/100], Train Loss: 31.7482\n",
      "Validation Loss: 31.3179\n",
      "Epoch [38/100], Train Loss: 31.6926\n",
      "Validation Loss: 31.6017\n",
      "Epoch [39/100], Train Loss: 31.6274\n",
      "Validation Loss: 31.4635\n",
      "Epoch [40/100], Train Loss: 31.3904\n",
      "Validation Loss: 31.1843\n",
      "Epoch [41/100], Train Loss: 31.2173\n",
      "Validation Loss: 31.2024\n",
      "Epoch [42/100], Train Loss: 31.2370\n",
      "Validation Loss: 31.1807\n",
      "Epoch [43/100], Train Loss: 31.2919\n",
      "Validation Loss: 31.1906\n",
      "Epoch [44/100], Train Loss: 31.3362\n",
      "Validation Loss: 31.2513\n",
      "Epoch [45/100], Train Loss: 31.3239\n",
      "Validation Loss: 31.2980\n",
      "Epoch [46/100], Train Loss: 31.5556\n",
      "Validation Loss: 32.0791\n",
      "Epoch [47/100], Train Loss: 32.4557\n",
      "Validation Loss: 32.6231\n",
      "Epoch [48/100], Train Loss: 32.8514\n",
      "Validation Loss: 32.5250\n",
      "Epoch [49/100], Train Loss: 32.7781\n",
      "Validation Loss: 32.3169\n",
      "Epoch [50/100], Train Loss: 31.6845\n",
      "Validation Loss: 31.1759\n",
      "Epoch [51/100], Train Loss: 31.2509\n",
      "Validation Loss: 31.1647\n",
      "Epoch [52/100], Train Loss: 31.3157\n",
      "Validation Loss: 31.3494\n",
      "Epoch [53/100], Train Loss: 31.5392\n",
      "Validation Loss: 31.5650\n",
      "Epoch [54/100], Train Loss: 31.5914\n",
      "Validation Loss: 31.4353\n",
      "Epoch [55/100], Train Loss: 31.5247\n",
      "Validation Loss: 31.3856\n",
      "Epoch [56/100], Train Loss: 31.4800\n",
      "Validation Loss: 31.3469\n",
      "Epoch [57/100], Train Loss: 31.3632\n",
      "Validation Loss: 31.1871\n",
      "Epoch [58/100], Train Loss: 31.4025\n",
      "Validation Loss: 31.3264\n",
      "Epoch [59/100], Train Loss: 31.3639\n",
      "Validation Loss: 31.2392\n",
      "Epoch [60/100], Train Loss: 31.3740\n",
      "Validation Loss: 31.2955\n",
      "Epoch [61/100], Train Loss: 31.3896\n",
      "Validation Loss: 31.3190\n",
      "Epoch [62/100], Train Loss: 31.3720\n",
      "Validation Loss: 31.3085\n",
      "Epoch [63/100], Train Loss: 31.3850\n",
      "Validation Loss: 31.3409\n",
      "Epoch [64/100], Train Loss: 31.3711\n",
      "Validation Loss: 31.2628\n",
      "Epoch [65/100], Train Loss: 31.3933\n",
      "Validation Loss: 31.3200\n",
      "Epoch [66/100], Train Loss: 31.4196\n",
      "Validation Loss: 31.3187\n",
      "Epoch [67/100], Train Loss: 31.4124\n",
      "Validation Loss: 31.3831\n",
      "Epoch [68/100], Train Loss: 31.3578\n",
      "Validation Loss: 31.1777\n",
      "Epoch [69/100], Train Loss: 31.2734\n",
      "Validation Loss: 31.0888\n",
      "Epoch [70/100], Train Loss: 31.2356\n",
      "Validation Loss: 31.0980\n",
      "Epoch [71/100], Train Loss: 31.1417\n",
      "Validation Loss: 31.1036\n",
      "Epoch [72/100], Train Loss: 31.1042\n",
      "Validation Loss: 31.0093\n",
      "Epoch [73/100], Train Loss: 30.9992\n",
      "Validation Loss: 30.8668\n",
      "Epoch [74/100], Train Loss: 30.9196\n",
      "Validation Loss: 30.7961\n",
      "Epoch [75/100], Train Loss: 30.8463\n",
      "Validation Loss: 30.7137\n",
      "Epoch [76/100], Train Loss: 30.8136\n",
      "Validation Loss: 30.5836\n",
      "Epoch [77/100], Train Loss: 30.5578\n",
      "Validation Loss: 30.4628\n",
      "Epoch [78/100], Train Loss: 30.4964\n",
      "Validation Loss: 30.3529\n",
      "Epoch [79/100], Train Loss: 30.4055\n",
      "Validation Loss: 30.2068\n",
      "Epoch [80/100], Train Loss: 30.2568\n",
      "Validation Loss: 30.0827\n",
      "Validation loss decreased (30.1415 --> 30.0827). Saving model...\n",
      "Epoch [81/100], Train Loss: 30.1351\n",
      "Validation Loss: 30.0184\n",
      "Validation loss decreased (30.0827 --> 30.0184). Saving model...\n",
      "Epoch [82/100], Train Loss: 30.0726\n",
      "Validation Loss: 29.9514\n",
      "Validation loss decreased (30.0184 --> 29.9514). Saving model...\n",
      "Epoch [83/100], Train Loss: 30.0581\n",
      "Validation Loss: 29.9772\n",
      "Epoch [84/100], Train Loss: 30.0533\n",
      "Validation Loss: 29.9429\n",
      "Validation loss decreased (29.9514 --> 29.9429). Saving model...\n",
      "Epoch [85/100], Train Loss: 30.0035\n",
      "Validation Loss: 29.9417\n",
      "Validation loss decreased (29.9429 --> 29.9417). Saving model...\n",
      "Epoch [86/100], Train Loss: 29.9768\n",
      "Validation Loss: 29.8916\n",
      "Validation loss decreased (29.9417 --> 29.8916). Saving model...\n",
      "Epoch [87/100], Train Loss: 29.9462\n",
      "Validation Loss: 29.8545\n",
      "Validation loss decreased (29.8916 --> 29.8545). Saving model...\n",
      "Epoch [88/100], Train Loss: 29.9115\n",
      "Validation Loss: 29.8488\n",
      "Validation loss decreased (29.8545 --> 29.8488). Saving model...\n",
      "Epoch [89/100], Train Loss: 29.8988\n",
      "Validation Loss: 29.8468\n",
      "Validation loss decreased (29.8488 --> 29.8468). Saving model...\n",
      "Epoch [90/100], Train Loss: 29.9138\n",
      "Validation Loss: 29.9068\n",
      "Epoch [91/100], Train Loss: 29.9458\n",
      "Validation Loss: 29.8590\n",
      "Epoch [92/100], Train Loss: 29.9178\n",
      "Validation Loss: 29.8376\n",
      "Validation loss decreased (29.8468 --> 29.8376). Saving model...\n",
      "Epoch [93/100], Train Loss: 29.9279\n",
      "Validation Loss: 29.8638\n",
      "Epoch [94/100], Train Loss: 29.9477\n",
      "Validation Loss: 29.8777\n",
      "Epoch [95/100], Train Loss: 29.9291\n",
      "Validation Loss: 29.8785\n",
      "Epoch [96/100], Train Loss: 29.9224\n",
      "Validation Loss: 29.8631\n",
      "Epoch [97/100], Train Loss: 29.8894\n",
      "Validation Loss: 29.8880\n",
      "Epoch [98/100], Train Loss: 29.8790\n",
      "Validation Loss: 29.8626\n",
      "Epoch [99/100], Train Loss: 29.8761\n",
      "Validation Loss: 29.7947\n",
      "Validation loss decreased (29.8376 --> 29.7947). Saving model...\n",
      "Epoch [100/100], Train Loss: 29.8745\n",
      "Validation Loss: 29.8404\n"
     ]
    }
   ],
   "source": [
    "num_epochs = 100  # Number of epochs to train for\n",
    "best_val_loss = float('inf')\n",
    "\n",
    "# Training loop\n",
    "for epoch in tqdm(range(num_epochs)):\n",
    "    model.train()  # Set the model to training mode\n",
    "    train_loss = 0.0\n",
    "    for data in train_loader:\n",
    "        inputs, _ = data\n",
    "        inputs = inputs.to(device).float()\n",
    "        \n",
    "        # Zero the parameter gradients\n",
    "        optimizer.zero_grad()\n",
    "        \n",
    "        # Forward pass\n",
    "        outputs = model(inputs)\n",
    "        loss = criterion(outputs, inputs)\n",
    "        \n",
    "        # Backward pass and optimize\n",
    "        loss.backward()\n",
    "        optimizer.step()\n",
    "        \n",
    "        train_loss += loss.item()\n",
    "    \n",
    "    train_loss /= len(train_loader)\n",
    "    print(f'Epoch [{epoch+1}/{num_epochs}], Train Loss: {train_loss:.4f}')\n",
    "\n",
    "    # Validation loop\n",
    "    model.eval()  # Set the model to evaluation mode\n",
    "    with torch.no_grad():\n",
    "        val_loss = 0.0\n",
    "        for data in val_loader:\n",
    "            inputs, _ = data\n",
    "            inputs = inputs.to(device).float()\n",
    "            \n",
    "            outputs = model(inputs)\n",
    "            loss = criterion(outputs, inputs)\n",
    "            \n",
    "            val_loss += loss.item()\n",
    "        \n",
    "        val_loss /= len(val_loader)\n",
    "        print(f'Validation Loss: {val_loss:.4f}')\n",
    "    \n",
    "    # Check if the current validation loss is the best\n",
    "    if val_loss < best_val_loss:\n",
    "        print(f\"Validation loss decreased ({best_val_loss:.4f} --> {val_loss:.4f}). Saving model...\")\n",
    "        best_val_loss = val_loss\n",
    "        # Save model\n",
    "        torch.save(model.state_dict(), '../models/SCAE_best.pth')"
   ]
  },
  {
   "cell_type": "code",
   "execution_count": 6,
   "metadata": {},
   "outputs": [
    {
     "data": {
      "text/plain": [
       "<All keys matched successfully>"
      ]
     },
     "execution_count": 6,
     "metadata": {},
     "output_type": "execute_result"
    }
   ],
   "source": [
    "model.load_state_dict(torch.load('../models/SCAE_best.pth'))"
   ]
  },
  {
   "cell_type": "code",
   "execution_count": 7,
   "metadata": {},
   "outputs": [
    {
     "data": {
      "image/png": "[encoded data removed]",
      "text/plain": [
       "<Figure size 640x480 with 1 Axes>"
      ]
     },
     "metadata": {},
     "output_type": "display_data"
    },
    {
     "data": {
      "image/png": "[encoded data removed]",
      "text/plain": [
       "<Figure size 640x480 with 1 Axes>"
      ]
     },
     "metadata": {},
     "output_type": "display_data"
    },
    {
     "name": "stdout",
     "output_type": "stream",
     "text": [
      "Non-Artifact plot\n"
     ]
    }
   ],
   "source": [
    "import matplotlib.pyplot as plt\n",
    "\n",
    "def plot_image(tensor):\n",
    "    img = tensor.squeeze().cpu()\n",
    "    img_np = img.numpy()\n",
    "\n",
    "    # Display the image\n",
    "    plt.imshow(img_np, cmap='gray')\n",
    "    plt.show()\n",
    "\n",
    "\n",
    "idx = 5\n",
    "input_tensor = data[0][idx].float().to(device) # Example input\n",
    "plot_image(input_tensor)\n",
    "\n",
    "with torch.no_grad():\n",
    "    output = model(input_tensor)\n",
    "    plot_image(output)\n",
    "\n",
    "print('Artifact plot') if data[1][idx]==1 else print('Non-Artifact plot')\n"
   ]
  },
  {
   "cell_type": "code",
   "execution_count": 8,
   "metadata": {},
   "outputs": [
    {
     "data": {
      "text/plain": [
       "torch.Size([1, 64, 64])"
      ]
     },
     "execution_count": 8,
     "metadata": {},
     "output_type": "execute_result"
    }
   ],
   "source": [
    "input_tensor.shape"
   ]
  },
  {
   "cell_type": "code",
   "execution_count": null,
   "metadata": {},
   "outputs": [],
   "source": []
  }
 ],
 "metadata": {
  "kernelspec": {
   "display_name": "Python 3 (ipykernel)",
   "language": "python",
   "name": "python3"
  },
  "language_info": {
   "codemirror_mode": {
    "name": "ipython",
    "version": 3
   },
   "file_extension": ".py",
   "mimetype": "text/x-python",
   "name": "python",
   "nbconvert_exporter": "python",
   "pygments_lexer": "ipython3",
   "version": "3.10.13"
  }
 },
 "nbformat": 4,
 "nbformat_minor": 2
}
