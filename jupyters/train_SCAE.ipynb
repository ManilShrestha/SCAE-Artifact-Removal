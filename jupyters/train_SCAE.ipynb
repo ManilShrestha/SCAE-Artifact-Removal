{
 "cells": [
  {
   "cell_type": "code",
   "execution_count": 5,
   "metadata": {},
   "outputs": [],
   "source": [
    "# Add the parent directory to sys.path\n",
    "\n",
    "import sys\n",
    "sys.path.append(os.path.abspath('..'))\n",
    "\n",
    "import os\n",
    "from torch.utils.data import Dataset\n",
    "import numpy as np\n",
    "from torch.utils.data import DataLoader\n",
    "\n",
    "import torch.optim as optim\n",
    "import torch\n",
    "import torch.nn as nn\n",
    "import torch.nn.functional as F\n",
    "\n",
    "from tqdm.notebook import tqdm\n",
    "\n",
    "from CustomDatasets import SCAEDataset"
   ]
  },
  {
   "cell_type": "code",
   "execution_count": 6,
   "metadata": {},
   "outputs": [
    {
     "name": "stdout",
     "output_type": "stream",
     "text": [
      "Dataset size: 22099\n",
      "First image shape: torch.Size([1, 64, 64]), Label: 1\n"
     ]
    }
   ],
   "source": [
    "train_dataset = SCAEDataset(root_dir=\"../data/train\")\n",
    "val_dataset = SCAEDataset(root_dir=\"../data/val\")\n",
    "test_dataset = SCAEDataset(root_dir=\"../data/test\")\n",
    "\n",
    "\n",
    "print(f\"Dataset size: {len(train_dataset)}\")\n",
    "\n",
    "# Getting the first sample\n",
    "image, label = train_dataset[0]\n",
    "print(f\"First image shape: {image.shape}, Label: {label}\")\n"
   ]
  },
  {
   "cell_type": "code",
   "execution_count": 7,
   "metadata": {},
   "outputs": [],
   "source": [
    "train_loader = DataLoader(train_dataset, batch_size=32, num_workers=4,shuffle=True, pin_memory=True)\n",
    "val_loader = DataLoader(val_dataset, batch_size=32, num_workers=4,shuffle=True, pin_memory=True)\n",
    "test_loader = DataLoader(test_dataset, batch_size=32, num_workers=4,shuffle=True, pin_memory=True)"
   ]
  },
  {
   "cell_type": "code",
   "execution_count": 8,
   "metadata": {},
   "outputs": [],
   "source": [
    "### Define the SCAE as per the paper, although imo, it is very basic\n",
    "class StackedConvAutoencoder(nn.Module):\n",
    "    def __init__(self):\n",
    "        super(StackedConvAutoencoder, self).__init__()\n",
    "        \n",
    "        # Encoder\n",
    "        self.conv1 = nn.Conv2d(in_channels=1, out_channels=16, kernel_size=3, stride=2, padding=1)  # Output: 32x32\n",
    "        self.pool = nn.MaxPool2d(kernel_size=2, stride=2, return_indices=True)  # Output: 16x16\n",
    "        \n",
    "        # Decoder\n",
    "        self.unpool = nn.MaxUnpool2d(kernel_size=2, stride=2)  # Output: 16x16\n",
    "        self.conv2 = nn.ConvTranspose2d(in_channels=16, out_channels=1, kernel_size=3, stride=2, padding=1, output_padding=1)  # Output: 32x32\n",
    "        \n",
    "        \n",
    "    def forward(self, x):\n",
    "        # Encoder\n",
    "        x = F.relu(self.conv1(x))\n",
    "        x, indices = self.pool(x)\n",
    "        \n",
    "        # Decoder\n",
    "        x = self.unpool(x, indices)\n",
    "        x = F.relu(self.conv2(x))\n",
    "        return x\n"
   ]
  },
  {
   "cell_type": "code",
   "execution_count": 9,
   "metadata": {},
   "outputs": [
    {
     "data": {
      "text/plain": [
       "StackedConvAutoencoder(\n",
       "  (conv1): Conv2d(1, 16, kernel_size=(3, 3), stride=(2, 2), padding=(1, 1))\n",
       "  (pool): MaxPool2d(kernel_size=2, stride=2, padding=0, dilation=1, ceil_mode=False)\n",
       "  (unpool): MaxUnpool2d(kernel_size=(2, 2), stride=(2, 2), padding=(0, 0))\n",
       "  (conv2): ConvTranspose2d(16, 1, kernel_size=(3, 3), stride=(2, 2), padding=(1, 1), output_padding=(1, 1))\n",
       ")"
      ]
     },
     "execution_count": 9,
     "metadata": {},
     "output_type": "execute_result"
    }
   ],
   "source": [
    "lr = 0.001\n",
    "\n",
    "model = StackedConvAutoencoder()\n",
    "criterion = nn.MSELoss()\n",
    "optimizer = optim.Adam(model.parameters(), lr=lr)\n",
    "\n",
    "\n",
    "device = torch.device('cuda' if torch.cuda.is_available() else 'cpu')\n",
    "\n",
    "model.to(device)"
   ]
  },
  {
   "cell_type": "code",
   "execution_count": 10,
   "metadata": {},
   "outputs": [
    {
     "data": {
      "application/vnd.jupyter.widget-view+json": {
       "model_id": "381f9113cfac42a1b18c617488a3889e",
       "version_major": 2,
       "version_minor": 0
      },
      "text/plain": [
       "  0%|          | 0/100 [00:00<?, ?it/s]"
      ]
     },
     "metadata": {},
     "output_type": "display_data"
    },
    {
     "name": "stdout",
     "output_type": "stream",
     "text": [
      "Epoch [1/100], Train Loss: 191.1140\n",
      "Validation Loss: 54.8846\n",
      "Validation loss decreased (inf --> 54.8846). Saving model...\n",
      "Epoch [2/100], Train Loss: 48.1634\n",
      "Validation Loss: 43.6742\n",
      "Validation loss decreased (54.8846 --> 43.6742). Saving model...\n",
      "Epoch [3/100], Train Loss: 40.1661\n",
      "Validation Loss: 37.5269\n",
      "Validation loss decreased (43.6742 --> 37.5269). Saving model...\n",
      "Epoch [4/100], Train Loss: 36.4023\n",
      "Validation Loss: 35.2281\n",
      "Validation loss decreased (37.5269 --> 35.2281). Saving model...\n",
      "Epoch [5/100], Train Loss: 34.6944\n",
      "Validation Loss: 34.1135\n",
      "Validation loss decreased (35.2281 --> 34.1135). Saving model...\n",
      "Epoch [6/100], Train Loss: 34.1510\n",
      "Validation Loss: 34.1370\n",
      "Epoch [7/100], Train Loss: 34.0406\n",
      "Validation Loss: 33.9210\n",
      "Validation loss decreased (34.1135 --> 33.9210). Saving model...\n",
      "Epoch [8/100], Train Loss: 33.7331\n",
      "Validation Loss: 33.3696\n",
      "Validation loss decreased (33.9210 --> 33.3696). Saving model...\n",
      "Epoch [9/100], Train Loss: 33.1381\n",
      "Validation Loss: 32.6367\n",
      "Validation loss decreased (33.3696 --> 32.6367). Saving model...\n",
      "Epoch [10/100], Train Loss: 32.4642\n",
      "Validation Loss: 31.9441\n",
      "Validation loss decreased (32.6367 --> 31.9441). Saving model...\n",
      "Epoch [11/100], Train Loss: 31.4870\n",
      "Validation Loss: 30.9859\n",
      "Validation loss decreased (31.9441 --> 30.9859). Saving model...\n",
      "Epoch [12/100], Train Loss: 30.7839\n",
      "Validation Loss: 30.5040\n",
      "Validation loss decreased (30.9859 --> 30.5040). Saving model...\n",
      "Epoch [13/100], Train Loss: 30.8459\n",
      "Validation Loss: 31.4730\n",
      "Epoch [14/100], Train Loss: 31.1781\n",
      "Validation Loss: 30.8236\n",
      "Epoch [15/100], Train Loss: 30.9425\n",
      "Validation Loss: 30.8738\n",
      "Epoch [16/100], Train Loss: 30.8941\n",
      "Validation Loss: 30.7279\n",
      "Epoch [17/100], Train Loss: 30.7865\n",
      "Validation Loss: 31.0729\n",
      "Epoch [18/100], Train Loss: 31.0567\n",
      "Validation Loss: 30.9509\n",
      "Epoch [19/100], Train Loss: 31.2058\n",
      "Validation Loss: 31.1687\n",
      "Epoch [20/100], Train Loss: 31.2183\n",
      "Validation Loss: 31.1488\n",
      "Epoch [21/100], Train Loss: 31.1006\n",
      "Validation Loss: 30.9465\n",
      "Epoch [22/100], Train Loss: 31.1552\n",
      "Validation Loss: 31.2999\n",
      "Epoch [23/100], Train Loss: 31.3233\n",
      "Validation Loss: 31.2681\n",
      "Epoch [24/100], Train Loss: 31.3839\n",
      "Validation Loss: 31.2847\n",
      "Epoch [25/100], Train Loss: 31.3164\n",
      "Validation Loss: 30.9166\n",
      "Epoch [26/100], Train Loss: 30.9984\n",
      "Validation Loss: 30.9712\n",
      "Epoch [27/100], Train Loss: 31.0081\n",
      "Validation Loss: 30.8176\n",
      "Epoch [28/100], Train Loss: 30.9791\n",
      "Validation Loss: 30.8870\n",
      "Epoch [29/100], Train Loss: 31.0058\n",
      "Validation Loss: 30.8510\n",
      "Epoch [30/100], Train Loss: 31.0164\n",
      "Validation Loss: 30.8128\n",
      "Epoch [31/100], Train Loss: 31.0464\n",
      "Validation Loss: 30.8455\n",
      "Epoch [32/100], Train Loss: 31.0212\n",
      "Validation Loss: 30.9826\n",
      "Epoch [33/100], Train Loss: 31.0673\n",
      "Validation Loss: 31.0057\n",
      "Epoch [34/100], Train Loss: 31.0770\n",
      "Validation Loss: 31.0453\n",
      "Epoch [35/100], Train Loss: 31.0338\n",
      "Validation Loss: 30.8453\n",
      "Epoch [36/100], Train Loss: 31.0210\n",
      "Validation Loss: 31.0407\n",
      "Epoch [37/100], Train Loss: 31.2077\n",
      "Validation Loss: 31.1223\n",
      "Epoch [38/100], Train Loss: 31.1628\n",
      "Validation Loss: 31.0458\n",
      "Epoch [39/100], Train Loss: 31.1476\n",
      "Validation Loss: 30.9919\n",
      "Epoch [40/100], Train Loss: 31.0391\n",
      "Validation Loss: 30.7827\n",
      "Epoch [41/100], Train Loss: 30.7416\n",
      "Validation Loss: 30.6222\n",
      "Epoch [42/100], Train Loss: 30.6215\n",
      "Validation Loss: 30.4896\n",
      "Validation loss decreased (30.5040 --> 30.4896). Saving model...\n",
      "Epoch [43/100], Train Loss: 30.5619\n",
      "Validation Loss: 30.4159\n",
      "Validation loss decreased (30.4896 --> 30.4159). Saving model...\n",
      "Epoch [44/100], Train Loss: 30.9080\n",
      "Validation Loss: 31.0182\n",
      "Epoch [45/100], Train Loss: 31.3361\n",
      "Validation Loss: 31.2947\n",
      "Epoch [46/100], Train Loss: 31.3883\n",
      "Validation Loss: 31.1709\n",
      "Epoch [47/100], Train Loss: 31.3894\n",
      "Validation Loss: 31.2979\n",
      "Epoch [48/100], Train Loss: 31.4211\n",
      "Validation Loss: 31.3281\n",
      "Epoch [49/100], Train Loss: 31.4451\n",
      "Validation Loss: 31.3585\n",
      "Epoch [50/100], Train Loss: 31.5108\n",
      "Validation Loss: 31.4700\n",
      "Epoch [51/100], Train Loss: 31.6038\n",
      "Validation Loss: 31.5134\n",
      "Epoch [52/100], Train Loss: 31.4991\n",
      "Validation Loss: 31.4378\n",
      "Epoch [53/100], Train Loss: 31.4543\n",
      "Validation Loss: 31.3671\n",
      "Epoch [54/100], Train Loss: 31.3509\n",
      "Validation Loss: 31.2317\n",
      "Epoch [55/100], Train Loss: 31.3165\n",
      "Validation Loss: 31.1584\n",
      "Epoch [56/100], Train Loss: 31.0830\n",
      "Validation Loss: 30.7778\n",
      "Epoch [57/100], Train Loss: 30.6984\n",
      "Validation Loss: 30.4631\n",
      "Epoch [58/100], Train Loss: 30.5171\n",
      "Validation Loss: 30.3771\n",
      "Validation loss decreased (30.4159 --> 30.3771). Saving model...\n",
      "Epoch [59/100], Train Loss: 30.3653\n",
      "Validation Loss: 30.2067\n",
      "Validation loss decreased (30.3771 --> 30.2067). Saving model...\n",
      "Epoch [60/100], Train Loss: 30.3306\n",
      "Validation Loss: 30.1884\n",
      "Validation loss decreased (30.2067 --> 30.1884). Saving model...\n",
      "Epoch [61/100], Train Loss: 30.8215\n",
      "Validation Loss: 31.9616\n",
      "Epoch [62/100], Train Loss: 32.0443\n",
      "Validation Loss: 31.7555\n",
      "Epoch [63/100], Train Loss: 31.8809\n",
      "Validation Loss: 31.4311\n",
      "Epoch [64/100], Train Loss: 31.6013\n",
      "Validation Loss: 31.4481\n",
      "Epoch [65/100], Train Loss: 31.6110\n",
      "Validation Loss: 31.5025\n",
      "Epoch [66/100], Train Loss: 31.6033\n",
      "Validation Loss: 31.4755\n",
      "Epoch [67/100], Train Loss: 31.5796\n",
      "Validation Loss: 31.4235\n",
      "Epoch [68/100], Train Loss: 31.5190\n",
      "Validation Loss: 31.3793\n",
      "Epoch [69/100], Train Loss: 31.5112\n",
      "Validation Loss: 31.3934\n",
      "Epoch [70/100], Train Loss: 31.5066\n",
      "Validation Loss: 31.3718\n",
      "Epoch [71/100], Train Loss: 31.4127\n",
      "Validation Loss: 31.2474\n",
      "Epoch [72/100], Train Loss: 31.4612\n",
      "Validation Loss: 31.4993\n",
      "Epoch [73/100], Train Loss: 31.5661\n",
      "Validation Loss: 31.4595\n",
      "Epoch [74/100], Train Loss: 31.4307\n",
      "Validation Loss: 31.2712\n",
      "Epoch [75/100], Train Loss: 31.3440\n",
      "Validation Loss: 31.2755\n",
      "Epoch [76/100], Train Loss: 31.4384\n",
      "Validation Loss: 31.4803\n",
      "Epoch [77/100], Train Loss: 31.5849\n",
      "Validation Loss: 31.5412\n",
      "Epoch [78/100], Train Loss: 31.6707\n",
      "Validation Loss: 31.6865\n",
      "Epoch [79/100], Train Loss: 31.8032\n",
      "Validation Loss: 31.6839\n",
      "Epoch [80/100], Train Loss: 31.8444\n",
      "Validation Loss: 31.7055\n",
      "Epoch [81/100], Train Loss: 31.8309\n",
      "Validation Loss: 31.6869\n",
      "Epoch [82/100], Train Loss: 31.8541\n",
      "Validation Loss: 31.7065\n",
      "Epoch [83/100], Train Loss: 31.9413\n",
      "Validation Loss: 31.8600\n",
      "Epoch [84/100], Train Loss: 32.0942\n",
      "Validation Loss: 32.0466\n",
      "Epoch [85/100], Train Loss: 32.2014\n",
      "Validation Loss: 32.1145\n",
      "Epoch [86/100], Train Loss: 32.2397\n",
      "Validation Loss: 32.0389\n",
      "Epoch [87/100], Train Loss: 32.1710\n",
      "Validation Loss: 31.9583\n",
      "Epoch [88/100], Train Loss: 32.1711\n",
      "Validation Loss: 31.9465\n",
      "Epoch [89/100], Train Loss: 32.2838\n",
      "Validation Loss: 32.1234\n",
      "Epoch [90/100], Train Loss: 32.2920\n",
      "Validation Loss: 32.1407\n",
      "Epoch [91/100], Train Loss: 32.3010\n",
      "Validation Loss: 31.9788\n",
      "Epoch [92/100], Train Loss: 32.2646\n",
      "Validation Loss: 32.1315\n",
      "Epoch [93/100], Train Loss: 32.3017\n",
      "Validation Loss: 32.1641\n",
      "Epoch [94/100], Train Loss: 32.3168\n",
      "Validation Loss: 32.1498\n",
      "Epoch [95/100], Train Loss: 32.3079\n",
      "Validation Loss: 32.1219\n",
      "Epoch [96/100], Train Loss: 32.2749\n",
      "Validation Loss: 32.0669\n",
      "Epoch [97/100], Train Loss: 32.2716\n",
      "Validation Loss: 32.0954\n",
      "Epoch [98/100], Train Loss: 32.3278\n",
      "Validation Loss: 32.0905\n",
      "Epoch [99/100], Train Loss: 32.2977\n",
      "Validation Loss: 32.2157\n",
      "Epoch [100/100], Train Loss: 32.3363\n",
      "Validation Loss: 32.1453\n"
     ]
    }
   ],
   "source": [
    "num_epochs = 100  # Number of epochs to train for\n",
    "best_val_loss = float('inf')\n",
    "\n",
    "# Training loop\n",
    "for epoch in tqdm(range(num_epochs)):\n",
    "    model.train()  # Set the model to training mode\n",
    "    train_loss = 0.0\n",
    "    for data in train_loader:\n",
    "        inputs, _ = data\n",
    "        inputs = inputs.to(device).float()\n",
    "        \n",
    "        # Zero the parameter gradients\n",
    "        optimizer.zero_grad()\n",
    "        \n",
    "        # Forward pass\n",
    "        outputs = model(inputs)\n",
    "        loss = criterion(outputs, inputs)\n",
    "        \n",
    "        # Backward pass and optimize\n",
    "        loss.backward()\n",
    "        optimizer.step()\n",
    "        \n",
    "        train_loss += loss.item()\n",
    "    \n",
    "    train_loss /= len(train_loader)\n",
    "    print(f'Epoch [{epoch+1}/{num_epochs}], Train Loss: {train_loss:.4f}')\n",
    "\n",
    "    # Validation loop\n",
    "    model.eval()  # Set the model to evaluation mode\n",
    "    with torch.no_grad():\n",
    "        val_loss = 0.0\n",
    "        for data in val_loader:\n",
    "            inputs, _ = data\n",
    "            inputs = inputs.to(device).float()\n",
    "            \n",
    "            outputs = model(inputs)\n",
    "            loss = criterion(outputs, inputs)\n",
    "            \n",
    "            val_loss += loss.item()\n",
    "        \n",
    "        val_loss /= len(val_loader)\n",
    "        print(f'Validation Loss: {val_loss:.4f}')\n",
    "    \n",
    "    # Check if the current validation loss is the best\n",
    "    if val_loss < best_val_loss:\n",
    "        print(f\"Validation loss decreased ({best_val_loss:.4f} --> {val_loss:.4f}). Saving model...\")\n",
    "        best_val_loss = val_loss\n",
    "        # Save model\n",
    "        torch.save(model.state_dict(), '../models/SCAE_best.pth')"
   ]
  },
  {
   "cell_type": "code",
   "execution_count": 11,
   "metadata": {},
   "outputs": [
    {
     "data": {
      "text/plain": [
       "<All keys matched successfully>"
      ]
     },
     "execution_count": 11,
     "metadata": {},
     "output_type": "execute_result"
    }
   ],
   "source": [
    "model.load_state_dict(torch.load('../models/SCAE_best.pth'))"
   ]
  },
  {
   "cell_type": "code",
   "execution_count": 17,
   "metadata": {},
   "outputs": [
    {
     "data": {
      "image/png": "[encoded data removed]",
      "text/plain": [
       "<Figure size 640x480 with 1 Axes>"
      ]
     },
     "metadata": {},
     "output_type": "display_data"
    },
    {
     "data": {
      "image/png": "[encoded data removed]",
      "text/plain": [
       "<Figure size 640x480 with 1 Axes>"
      ]
     },
     "metadata": {},
     "output_type": "display_data"
    },
    {
     "name": "stdout",
     "output_type": "stream",
     "text": [
      "Artifact plot\n"
     ]
    }
   ],
   "source": [
    "import matplotlib.pyplot as plt\n",
    "\n",
    "def plot_image(tensor):\n",
    "    img = tensor.squeeze().cpu()\n",
    "    img_np = img.numpy()\n",
    "\n",
    "    # Display the image\n",
    "    plt.imshow(img_np, cmap='gray')\n",
    "    plt.show()\n",
    "\n",
    "\n",
    "idx = 5\n",
    "input_tensor = data[0][idx].float().to(device) # Example input\n",
    "plot_image(input_tensor)\n",
    "\n",
    "with torch.no_grad():\n",
    "    output = model(input_tensor)\n",
    "    plot_image(output)\n",
    "\n",
    "print('Artifact plot') if data[1][idx]==1 else print('Non-Artifact plot')\n"
   ]
  },
  {
   "cell_type": "code",
   "execution_count": 14,
   "metadata": {},
   "outputs": [
    {
     "data": {
      "text/plain": [
       "torch.Size([1, 64, 64])"
      ]
     },
     "execution_count": 14,
     "metadata": {},
     "output_type": "execute_result"
    }
   ],
   "source": []
  }
 ],
 "metadata": {
  "kernelspec": {
   "display_name": "Python 3 (ipykernel)",
   "language": "python",
   "name": "python3"
  },
  "language_info": {
   "codemirror_mode": {
    "name": "ipython",
    "version": 3
   },
   "file_extension": ".py",
   "mimetype": "text/x-python",
   "name": "python",
   "nbconvert_exporter": "python",
   "pygments_lexer": "ipython3",
   "version": "3.10.13"
  }
 },
 "nbformat": 4,
 "nbformat_minor": 2
}
