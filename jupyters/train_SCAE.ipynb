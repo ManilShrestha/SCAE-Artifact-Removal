{
 "cells": [
  {
   "cell_type": "markdown",
   "metadata": {},
   "source": [
    "### This notebook implements the training of SCAE from paper:\n",
    "Artifact removal from neurophysiological signals: impact on intracranial and arterial pressure monitoring in traumatic brain injury"
   ]
  },
  {
   "cell_type": "code",
   "execution_count": 1,
   "metadata": {},
   "outputs": [],
   "source": [
    "# Add the parent directory to sys.path\n",
    "import sys\n",
    "import os\n",
    "\n",
    "sys.path.append(os.path.abspath('..'))\n",
    "\n",
    "import numpy as np\n",
    "from torch.utils.data import DataLoader\n",
    "\n",
    "import torch.optim as optim\n",
    "import torch\n",
    "import torch.nn as nn\n",
    "\n",
    "from tqdm.notebook import tqdm\n",
    "\n",
    "from lib.CustomDatasets import SCAEDataset\n",
    "from lib.Models import StackedConvAutoencoder"
   ]
  },
  {
   "cell_type": "code",
   "execution_count": 2,
   "metadata": {},
   "outputs": [
    {
     "name": "stdout",
     "output_type": "stream",
     "text": [
      "Dataset size: 22099\n",
      "First image shape: torch.Size([1, 64, 64]), Label: 1\n"
     ]
    }
   ],
   "source": [
    "train_dataset = SCAEDataset(root_dir=\"../data/abp/train\")\n",
    "val_dataset = SCAEDataset(root_dir=\"../data/abp/val\")\n",
    "test_dataset = SCAEDataset(root_dir=\"../data/abp/test\")\n",
    "\n",
    "\n",
    "print(f\"Dataset size: {len(train_dataset)}\")\n",
    "\n",
    "# Getting the first sample\n",
    "image, label = train_dataset[0]\n",
    "print(f\"First image shape: {image.shape}, Label: {label}\")\n"
   ]
  },
  {
   "cell_type": "code",
   "execution_count": 3,
   "metadata": {},
   "outputs": [],
   "source": [
    "train_loader = DataLoader(train_dataset, batch_size=32, num_workers=4,shuffle=True, pin_memory=True)\n",
    "val_loader = DataLoader(val_dataset, batch_size=32, num_workers=4,shuffle=True, pin_memory=True)\n",
    "test_loader = DataLoader(test_dataset, batch_size=32, num_workers=4,shuffle=True, pin_memory=True)"
   ]
  },
  {
   "cell_type": "code",
   "execution_count": 4,
   "metadata": {},
   "outputs": [
    {
     "data": {
      "text/plain": [
       "StackedConvAutoencoder(\n",
       "  (conv1): Conv2d(1, 16, kernel_size=(3, 3), stride=(2, 2), padding=(1, 1))\n",
       "  (pool): MaxPool2d(kernel_size=2, stride=2, padding=0, dilation=1, ceil_mode=False)\n",
       "  (unpool): MaxUnpool2d(kernel_size=(2, 2), stride=(2, 2), padding=(0, 0))\n",
       "  (conv2): ConvTranspose2d(16, 1, kernel_size=(3, 3), stride=(2, 2), padding=(1, 1), output_padding=(1, 1))\n",
       ")"
      ]
     },
     "execution_count": 4,
     "metadata": {},
     "output_type": "execute_result"
    }
   ],
   "source": [
    "lr = 0.001\n",
    "\n",
    "model = StackedConvAutoencoder()\n",
    "criterion = nn.MSELoss()\n",
    "optimizer = optim.Adam(model.parameters(), lr=lr)\n",
    "\n",
    "\n",
    "device = torch.device('cuda' if torch.cuda.is_available() else 'cpu')\n",
    "\n",
    "model.to(device)"
   ]
  },
  {
   "cell_type": "code",
   "execution_count": 5,
   "metadata": {},
   "outputs": [
    {
     "data": {
      "application/vnd.jupyter.widget-view+json": {
       "model_id": "f68031a4e0f146a8b08c651ad7da2da6",
       "version_major": 2,
       "version_minor": 0
      },
      "text/plain": [
       "  0%|          | 0/100 [00:00<?, ?it/s]"
      ]
     },
     "metadata": {},
     "output_type": "display_data"
    },
    {
     "name": "stdout",
     "output_type": "stream",
     "text": [
      "Epoch [1/100], Train Loss: 166.0213\n",
      "Validation Loss: 52.3571\n",
      "Validation loss decreased (inf --> 52.3571). Saving model...\n",
      "Epoch [2/100], Train Loss: 45.1345\n",
      "Validation Loss: 40.7464\n",
      "Validation loss decreased (52.3571 --> 40.7464). Saving model...\n",
      "Epoch [3/100], Train Loss: 37.7541\n",
      "Validation Loss: 35.5823\n",
      "Validation loss decreased (40.7464 --> 35.5823). Saving model...\n",
      "Epoch [4/100], Train Loss: 34.7008\n",
      "Validation Loss: 33.8749\n",
      "Validation loss decreased (35.5823 --> 33.8749). Saving model...\n",
      "Epoch [5/100], Train Loss: 33.4441\n",
      "Validation Loss: 33.4001\n",
      "Validation loss decreased (33.8749 --> 33.4001). Saving model...\n",
      "Epoch [6/100], Train Loss: 32.5098\n",
      "Validation Loss: 31.6233\n",
      "Validation loss decreased (33.4001 --> 31.6233). Saving model...\n",
      "Epoch [7/100], Train Loss: 31.1001\n",
      "Validation Loss: 30.7712\n",
      "Validation loss decreased (31.6233 --> 30.7712). Saving model...\n",
      "Epoch [8/100], Train Loss: 30.7566\n",
      "Validation Loss: 30.7048\n",
      "Validation loss decreased (30.7712 --> 30.7048). Saving model...\n",
      "Epoch [9/100], Train Loss: 30.6549\n",
      "Validation Loss: 30.3084\n",
      "Validation loss decreased (30.7048 --> 30.3084). Saving model...\n",
      "Epoch [10/100], Train Loss: 30.3915\n",
      "Validation Loss: 30.3455\n",
      "Epoch [11/100], Train Loss: 30.6191\n",
      "Validation Loss: 30.6315\n",
      "Epoch [12/100], Train Loss: 30.5620\n",
      "Validation Loss: 30.4939\n",
      "Epoch [13/100], Train Loss: 30.4129\n",
      "Validation Loss: 30.4059\n",
      "Epoch [14/100], Train Loss: 30.7849\n",
      "Validation Loss: 31.0496\n",
      "Epoch [15/100], Train Loss: 30.9251\n",
      "Validation Loss: 30.7012\n",
      "Epoch [16/100], Train Loss: 30.6177\n",
      "Validation Loss: 30.5621\n",
      "Epoch [17/100], Train Loss: 30.5998\n",
      "Validation Loss: 30.6169\n",
      "Epoch [18/100], Train Loss: 31.6080\n",
      "Validation Loss: 33.3187\n",
      "Epoch [19/100], Train Loss: 34.6328\n",
      "Validation Loss: 33.5656\n",
      "Epoch [20/100], Train Loss: 33.2300\n",
      "Validation Loss: 32.8452\n",
      "Epoch [21/100], Train Loss: 32.4326\n",
      "Validation Loss: 31.8863\n",
      "Epoch [22/100], Train Loss: 32.0127\n",
      "Validation Loss: 31.7871\n",
      "Epoch [23/100], Train Loss: 31.7942\n",
      "Validation Loss: 31.6350\n",
      "Epoch [24/100], Train Loss: 31.7914\n",
      "Validation Loss: 31.8784\n",
      "Epoch [25/100], Train Loss: 31.8528\n",
      "Validation Loss: 31.6660\n",
      "Epoch [26/100], Train Loss: 31.6218\n",
      "Validation Loss: 31.4168\n",
      "Epoch [27/100], Train Loss: 31.4964\n",
      "Validation Loss: 31.4438\n",
      "Epoch [28/100], Train Loss: 31.4376\n",
      "Validation Loss: 31.3023\n",
      "Epoch [29/100], Train Loss: 31.1919\n",
      "Validation Loss: 31.1569\n",
      "Epoch [30/100], Train Loss: 31.7451\n",
      "Validation Loss: 31.9457\n",
      "Epoch [31/100], Train Loss: 31.9344\n",
      "Validation Loss: 31.6217\n",
      "Epoch [32/100], Train Loss: 31.7090\n",
      "Validation Loss: 31.5841\n",
      "Epoch [33/100], Train Loss: 31.4717\n",
      "Validation Loss: 31.3836\n",
      "Epoch [34/100], Train Loss: 31.2444\n",
      "Validation Loss: 31.1052\n",
      "Epoch [35/100], Train Loss: 31.3029\n",
      "Validation Loss: 31.3435\n",
      "Epoch [36/100], Train Loss: 31.4105\n",
      "Validation Loss: 31.3792\n",
      "Epoch [37/100], Train Loss: 31.4496\n",
      "Validation Loss: 31.4928\n",
      "Epoch [38/100], Train Loss: 31.4312\n",
      "Validation Loss: 31.3579\n",
      "Epoch [39/100], Train Loss: 31.3611\n",
      "Validation Loss: 31.2801\n",
      "Epoch [40/100], Train Loss: 31.5327\n",
      "Validation Loss: 31.7600\n",
      "Epoch [41/100], Train Loss: 32.1810\n",
      "Validation Loss: 32.5186\n",
      "Epoch [42/100], Train Loss: 33.1298\n",
      "Validation Loss: 33.1997\n",
      "Epoch [43/100], Train Loss: 33.1946\n",
      "Validation Loss: 32.9930\n",
      "Epoch [44/100], Train Loss: 33.0070\n",
      "Validation Loss: 33.0498\n",
      "Epoch [45/100], Train Loss: 32.7653\n",
      "Validation Loss: 32.5066\n",
      "Epoch [46/100], Train Loss: 32.4889\n",
      "Validation Loss: 32.4270\n",
      "Epoch [47/100], Train Loss: 31.9688\n",
      "Validation Loss: 31.7347\n",
      "Epoch [48/100], Train Loss: 31.6950\n",
      "Validation Loss: 31.5672\n",
      "Epoch [49/100], Train Loss: 31.5560\n",
      "Validation Loss: 31.4304\n",
      "Epoch [50/100], Train Loss: 31.4189\n",
      "Validation Loss: 31.3332\n",
      "Epoch [51/100], Train Loss: 31.4332\n",
      "Validation Loss: 31.3542\n",
      "Epoch [52/100], Train Loss: 31.4719\n",
      "Validation Loss: 31.6248\n",
      "Epoch [53/100], Train Loss: 32.2237\n",
      "Validation Loss: 32.6738\n",
      "Epoch [54/100], Train Loss: 32.4095\n",
      "Validation Loss: 32.1925\n",
      "Epoch [55/100], Train Loss: 32.3099\n",
      "Validation Loss: 32.4832\n",
      "Epoch [56/100], Train Loss: 32.4860\n",
      "Validation Loss: 32.2662\n",
      "Epoch [57/100], Train Loss: 32.3346\n",
      "Validation Loss: 32.0737\n",
      "Epoch [58/100], Train Loss: 32.1320\n",
      "Validation Loss: 31.9861\n",
      "Epoch [59/100], Train Loss: 32.0733\n",
      "Validation Loss: 31.9409\n",
      "Epoch [60/100], Train Loss: 32.0171\n",
      "Validation Loss: 31.8564\n",
      "Epoch [61/100], Train Loss: 31.9523\n",
      "Validation Loss: 31.8319\n",
      "Epoch [62/100], Train Loss: 31.9301\n",
      "Validation Loss: 31.8226\n",
      "Epoch [63/100], Train Loss: 31.8239\n",
      "Validation Loss: 31.7356\n",
      "Epoch [64/100], Train Loss: 31.6780\n",
      "Validation Loss: 31.4321\n",
      "Epoch [65/100], Train Loss: 31.4818\n",
      "Validation Loss: 31.4559\n",
      "Epoch [66/100], Train Loss: 31.4643\n",
      "Validation Loss: 31.3913\n",
      "Epoch [67/100], Train Loss: 31.4700\n",
      "Validation Loss: 31.4299\n",
      "Epoch [68/100], Train Loss: 31.4792\n",
      "Validation Loss: 31.4038\n",
      "Epoch [69/100], Train Loss: 31.4832\n",
      "Validation Loss: 31.5015\n",
      "Epoch [70/100], Train Loss: 31.4926\n",
      "Validation Loss: 31.3600\n",
      "Epoch [71/100], Train Loss: 31.4695\n",
      "Validation Loss: 31.3695\n",
      "Epoch [72/100], Train Loss: 31.4414\n",
      "Validation Loss: 31.3923\n",
      "Epoch [73/100], Train Loss: 31.4380\n",
      "Validation Loss: 31.4410\n",
      "Epoch [74/100], Train Loss: 31.4442\n",
      "Validation Loss: 31.3204\n",
      "Epoch [75/100], Train Loss: 31.4311\n",
      "Validation Loss: 31.4283\n",
      "Epoch [76/100], Train Loss: 31.4248\n",
      "Validation Loss: 31.3375\n",
      "Epoch [77/100], Train Loss: 31.4325\n",
      "Validation Loss: 31.3789\n",
      "Epoch [78/100], Train Loss: 31.4380\n",
      "Validation Loss: 31.3319\n",
      "Epoch [79/100], Train Loss: 31.4348\n",
      "Validation Loss: 31.3320\n",
      "Epoch [80/100], Train Loss: 31.4462\n",
      "Validation Loss: 31.3640\n",
      "Epoch [81/100], Train Loss: 31.4241\n",
      "Validation Loss: 31.3741\n",
      "Epoch [82/100], Train Loss: 31.4482\n",
      "Validation Loss: 31.3446\n",
      "Epoch [83/100], Train Loss: 31.4401\n",
      "Validation Loss: 31.3552\n",
      "Epoch [84/100], Train Loss: 31.4453\n",
      "Validation Loss: 31.3708\n",
      "Epoch [85/100], Train Loss: 31.4284\n",
      "Validation Loss: 31.3939\n",
      "Epoch [86/100], Train Loss: 31.4119\n",
      "Validation Loss: 31.3569\n",
      "Epoch [87/100], Train Loss: 31.4310\n",
      "Validation Loss: 31.3016\n",
      "Epoch [88/100], Train Loss: 31.4282\n",
      "Validation Loss: 31.3214\n",
      "Epoch [89/100], Train Loss: 31.4086\n",
      "Validation Loss: 31.3895\n",
      "Epoch [90/100], Train Loss: 31.4216\n",
      "Validation Loss: 31.3860\n",
      "Epoch [91/100], Train Loss: 31.4243\n",
      "Validation Loss: 31.3144\n",
      "Epoch [92/100], Train Loss: 31.4460\n",
      "Validation Loss: 31.3599\n",
      "Epoch [93/100], Train Loss: 31.4581\n",
      "Validation Loss: 31.3873\n",
      "Epoch [94/100], Train Loss: 31.4493\n",
      "Validation Loss: 31.3058\n",
      "Epoch [95/100], Train Loss: 31.4413\n",
      "Validation Loss: 31.3882\n",
      "Epoch [96/100], Train Loss: 31.4478\n",
      "Validation Loss: 31.4006\n",
      "Epoch [97/100], Train Loss: 31.4396\n",
      "Validation Loss: 31.3976\n",
      "Epoch [98/100], Train Loss: 31.4390\n",
      "Validation Loss: 31.3468\n",
      "Epoch [99/100], Train Loss: 31.4385\n",
      "Validation Loss: 31.4078\n",
      "Epoch [100/100], Train Loss: 31.4488\n",
      "Validation Loss: 31.3532\n"
     ]
    }
   ],
   "source": [
    "num_epochs = 100  # Number of epochs to train for\n",
    "best_val_loss = float('inf')\n",
    "\n",
    "# Training loop\n",
    "for epoch in tqdm(range(num_epochs)):\n",
    "    model.train()  # Set the model to training mode\n",
    "    train_loss = 0.0\n",
    "    for data in train_loader:\n",
    "        inputs, _ = data\n",
    "        inputs = inputs.to(device).float()\n",
    "        \n",
    "        # Zero the parameter gradients\n",
    "        optimizer.zero_grad()\n",
    "        \n",
    "        # Forward pass\n",
    "        outputs = model(inputs)\n",
    "        loss = criterion(outputs, inputs)\n",
    "        \n",
    "        # Backward pass and optimize\n",
    "        loss.backward()\n",
    "        optimizer.step()\n",
    "        \n",
    "        train_loss += loss.item()\n",
    "    \n",
    "    train_loss /= len(train_loader)\n",
    "    print(f'Epoch [{epoch+1}/{num_epochs}], Train Loss: {train_loss:.4f}')\n",
    "\n",
    "    # Validation loop\n",
    "    model.eval()  # Set the model to evaluation mode\n",
    "    with torch.no_grad():\n",
    "        val_loss = 0.0\n",
    "        for data in val_loader:\n",
    "            inputs, _ = data\n",
    "            inputs = inputs.to(device).float()\n",
    "            \n",
    "            outputs = model(inputs)\n",
    "            loss = criterion(outputs, inputs)\n",
    "            \n",
    "            val_loss += loss.item()\n",
    "        \n",
    "        val_loss /= len(val_loader)\n",
    "        print(f'Validation Loss: {val_loss:.4f}')\n",
    "    \n",
    "    # Check if the current validation loss is the best\n",
    "    if val_loss < best_val_loss:\n",
    "        print(f\"Validation loss decreased ({best_val_loss:.4f} --> {val_loss:.4f}). Saving model...\")\n",
    "        best_val_loss = val_loss\n",
    "        # Save model\n",
    "        torch.save(model.state_dict(), '../models/SCAE_best.pth')"
   ]
  },
  {
   "cell_type": "code",
   "execution_count": 6,
   "metadata": {},
   "outputs": [
    {
     "data": {
      "text/plain": [
       "<All keys matched successfully>"
      ]
     },
     "execution_count": 6,
     "metadata": {},
     "output_type": "execute_result"
    }
   ],
   "source": [
    "model.load_state_dict(torch.load('../models/SCAE_best.pth'))"
   ]
  },
  {
   "cell_type": "code",
   "execution_count": 12,
   "metadata": {},
   "outputs": [
    {
     "data": {
      "image/png": "[encoded data removed]",
      "text/plain": [
       "<Figure size 640x480 with 1 Axes>"
      ]
     },
     "metadata": {},
     "output_type": "display_data"
    },
    {
     "data": {
      "image/png": "[encoded data removed]",
      "text/plain": [
       "<Figure size 640x480 with 1 Axes>"
      ]
     },
     "metadata": {},
     "output_type": "display_data"
    },
    {
     "name": "stdout",
     "output_type": "stream",
     "text": [
      "Artifact plot\n"
     ]
    }
   ],
   "source": [
    "import matplotlib.pyplot as plt\n",
    "\n",
    "def plot_image(tensor):\n",
    "    img = tensor.squeeze().cpu()\n",
    "    img_np = img.numpy()\n",
    "\n",
    "    # Display the image\n",
    "    plt.imshow(img_np, cmap='gray')\n",
    "    plt.show()\n",
    "\n",
    "\n",
    "idx = 5\n",
    "input_tensor = data[0][idx].float().to(device) # Example input\n",
    "plot_image(input_tensor)\n",
    "\n",
    "with torch.no_grad():\n",
    "    output = model(input_tensor)\n",
    "    plot_image(output)\n",
    "\n",
    "print('Artifact plot') if data[1][idx]==1 else print('Non-Artifact plot')\n"
   ]
  },
  {
   "cell_type": "code",
   "execution_count": 8,
   "metadata": {},
   "outputs": [
    {
     "data": {
      "text/plain": [
       "torch.Size([1, 64, 64])"
      ]
     },
     "execution_count": 8,
     "metadata": {},
     "output_type": "execute_result"
    }
   ],
   "source": [
    "input_tensor.shape"
   ]
  },
  {
   "cell_type": "code",
   "execution_count": null,
   "metadata": {},
   "outputs": [],
   "source": []
  }
 ],
 "metadata": {
  "kernelspec": {
   "display_name": "Python 3 (ipykernel)",
   "language": "python",
   "name": "python3"
  },
  "language_info": {
   "codemirror_mode": {
    "name": "ipython",
    "version": 3
   },
   "file_extension": ".py",
   "mimetype": "text/x-python",
   "name": "python",
   "nbconvert_exporter": "python",
   "pygments_lexer": "ipython3",
   "version": "3.10.13"
  }
 },
 "nbformat": 4,
 "nbformat_minor": 2
}
