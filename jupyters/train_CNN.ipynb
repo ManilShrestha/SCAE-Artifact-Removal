{
 "cells": [
  {
   "cell_type": "code",
   "execution_count": 10,
   "metadata": {},
   "outputs": [],
   "source": [
    "import sys\n",
    "import os\n",
    "\n",
    "sys.path.append(os.path.abspath('..'))\n",
    "\n",
    "from torch.utils.data import DataLoader\n",
    "\n",
    "import torch.optim as optim\n",
    "import torch\n",
    "import torch.nn as nn\n",
    "\n",
    "from tqdm.notebook import tqdm\n",
    "\n",
    "from CustomDatasets import SCAEDataset\n",
    "from Models import StackedConvAutoencoder, ArtifactCNN\n",
    "device = torch.device(\"cuda:0\" if torch.cuda.is_available() else \"cpu\")\n"
   ]
  },
  {
   "cell_type": "code",
   "execution_count": 2,
   "metadata": {},
   "outputs": [],
   "source": [
    "train_dataset = SCAEDataset(root_dir=\"../data/train\")\n",
    "val_dataset = SCAEDataset(root_dir=\"../data/val\")\n",
    "test_dataset = SCAEDataset(root_dir=\"../data/test\")\n",
    "\n",
    "train_loader = DataLoader(train_dataset, batch_size=32, num_workers=4,shuffle=True, pin_memory=True)\n",
    "val_loader = DataLoader(val_dataset, batch_size=32, num_workers=4,shuffle=True, pin_memory=True)\n",
    "test_loader = DataLoader(test_dataset, batch_size=32, num_workers=4,shuffle=True, pin_memory=True)"
   ]
  },
  {
   "cell_type": "code",
   "execution_count": 11,
   "metadata": {},
   "outputs": [
    {
     "data": {
      "text/plain": [
       "StackedConvAutoencoder(\n",
       "  (conv1): Conv2d(1, 16, kernel_size=(3, 3), stride=(2, 2), padding=(1, 1))\n",
       "  (pool): MaxPool2d(kernel_size=2, stride=2, padding=0, dilation=1, ceil_mode=False)\n",
       "  (unpool): MaxUnpool2d(kernel_size=(2, 2), stride=(2, 2), padding=(0, 0))\n",
       "  (conv2): ConvTranspose2d(16, 1, kernel_size=(3, 3), stride=(2, 2), padding=(1, 1), output_padding=(1, 1))\n",
       ")"
      ]
     },
     "execution_count": 11,
     "metadata": {},
     "output_type": "execute_result"
    }
   ],
   "source": [
    "SCAEModel = StackedConvAutoencoder()\n",
    "\n",
    "#Load the best model while training the AE\n",
    "SCAEModel.load_state_dict(torch.load('../models/SCAE_best.pth'))\n",
    "SCAEModel.to(device)\n",
    "SCAEModel.eval()"
   ]
  },
  {
   "cell_type": "code",
   "execution_count": 12,
   "metadata": {},
   "outputs": [
    {
     "name": "stdout",
     "output_type": "stream",
     "text": [
      "ArtifactCNN(\n",
      "  (conv1): Conv2d(1, 16, kernel_size=(3, 3), stride=(2, 2), padding=(1, 1))\n",
      "  (pool): MaxPool2d(kernel_size=2, stride=2, padding=0, dilation=1, ceil_mode=False)\n",
      "  (conv2): Conv2d(16, 32, kernel_size=(3, 3), stride=(1, 1), padding=(1, 1))\n",
      "  (flatten): Flatten(start_dim=1, end_dim=-1)\n",
      "  (fc1): Linear(in_features=8192, out_features=128, bias=True)\n",
      "  (dropout): Dropout(p=0.25, inplace=False)\n",
      "  (fc2): Linear(in_features=128, out_features=2, bias=True)\n",
      ")\n"
     ]
    }
   ],
   "source": [
    "num_classes = 2\n",
    "model = ArtifactCNN(num_classes=num_classes)\n",
    "print(model)"
   ]
  },
  {
   "cell_type": "code",
   "execution_count": 13,
   "metadata": {},
   "outputs": [
    {
     "data": {
      "text/plain": [
       "[torch.Size([32, 16, 32, 32]),\n",
       " torch.Size([32, 16, 16, 16]),\n",
       " torch.Size([32, 32, 16, 16]),\n",
       " 8192,\n",
       " torch.Size([32, 128]),\n",
       " torch.Size([32, 128]),\n",
       " torch.Size([32, 2])]"
      ]
     },
     "execution_count": 13,
     "metadata": {},
     "output_type": "execute_result"
    }
   ],
   "source": [
    "## Verifying sizes of each layer outputs\n",
    "dummy_input = torch.randn(32, 1, 64, 64)\n",
    "\n",
    "# Function to calculate the size of each layer's output\n",
    "def calculate_layer_sizes(model, dummy_input):\n",
    "    layer_sizes = []\n",
    "    x = dummy_input\n",
    "    for layer in model.children():\n",
    "        x = layer(x)\n",
    "        if isinstance(layer, nn.Flatten):\n",
    "            layer_sizes.append(x.shape[1])  # After flattening, x is a 1D tensor\n",
    "        else:\n",
    "            layer_sizes.append(x.size())\n",
    "    return layer_sizes\n",
    "\n",
    "layer_sizes = calculate_layer_sizes(model, dummy_input)\n",
    "layer_sizes"
   ]
  },
  {
   "cell_type": "code",
   "execution_count": 17,
   "metadata": {},
   "outputs": [
    {
     "data": {
      "application/vnd.jupyter.widget-view+json": {
       "model_id": "4b7eee19caa44fd78bee54e6f614430c",
       "version_major": 2,
       "version_minor": 0
      },
      "text/plain": [
       "  0%|          | 0/100 [00:00<?, ?it/s]"
      ]
     },
     "metadata": {},
     "output_type": "display_data"
    },
    {
     "name": "stdout",
     "output_type": "stream",
     "text": [
      "Epoch 1, Train Loss: 0.8132\n",
      "Epoch 1, Validation Loss: 0.8133\n",
      "Validation Loss Decreased(inf--->0.8133) \t Saving The Model\n",
      "Epoch 2, Train Loss: 0.8133\n",
      "Epoch 2, Validation Loss: 0.8127\n",
      "Validation Loss Decreased(0.8133--->0.8127) \t Saving The Model\n",
      "Epoch 3, Train Loss: 0.8133\n",
      "Epoch 3, Validation Loss: 0.8142\n",
      "Epoch 4, Train Loss: 0.8132\n",
      "Epoch 4, Validation Loss: 0.8133\n",
      "Epoch 5, Train Loss: 0.8133\n",
      "Epoch 5, Validation Loss: 0.8135\n",
      "Epoch 6, Train Loss: 0.8133\n",
      "Epoch 6, Validation Loss: 0.8127\n",
      "Epoch 7, Train Loss: 0.8132\n",
      "Epoch 7, Validation Loss: 0.8129\n",
      "Epoch 8, Train Loss: 0.8134\n",
      "Epoch 8, Validation Loss: 0.8129\n",
      "Epoch 9, Train Loss: 0.8133\n",
      "Epoch 9, Validation Loss: 0.8138\n",
      "Epoch 10, Train Loss: 0.8134\n",
      "Epoch 10, Validation Loss: 0.8133\n",
      "Epoch 11, Train Loss: 0.8134\n",
      "Epoch 11, Validation Loss: 0.8135\n",
      "Epoch 12, Train Loss: 0.8134\n",
      "Epoch 12, Validation Loss: 0.8135\n",
      "Epoch 13, Train Loss: 0.8132\n",
      "Epoch 13, Validation Loss: 0.8136\n",
      "Epoch 14, Train Loss: 0.8133\n",
      "Epoch 14, Validation Loss: 0.8142\n",
      "Epoch 15, Train Loss: 0.8133\n",
      "Epoch 15, Validation Loss: 0.8129\n",
      "Epoch 16, Train Loss: 0.8132\n",
      "Epoch 16, Validation Loss: 0.8138\n",
      "Epoch 17, Train Loss: 0.8133\n",
      "Epoch 17, Validation Loss: 0.8131\n",
      "Epoch 18, Train Loss: 0.8133\n",
      "Epoch 18, Validation Loss: 0.8136\n",
      "Epoch 19, Train Loss: 0.8133\n",
      "Epoch 19, Validation Loss: 0.8136\n",
      "Epoch 20, Train Loss: 0.8132\n",
      "Epoch 20, Validation Loss: 0.8133\n",
      "Epoch 21, Train Loss: 0.8133\n",
      "Epoch 21, Validation Loss: 0.8138\n",
      "Epoch 22, Train Loss: 0.8133\n",
      "Epoch 22, Validation Loss: 0.8133\n",
      "Epoch 23, Train Loss: 0.8133\n",
      "Epoch 23, Validation Loss: 0.8135\n",
      "Epoch 24, Train Loss: 0.8132\n",
      "Epoch 24, Validation Loss: 0.8136\n",
      "Epoch 25, Train Loss: 0.8133\n",
      "Epoch 25, Validation Loss: 0.8127\n",
      "Epoch 26, Train Loss: 0.8133\n",
      "Epoch 26, Validation Loss: 0.8144\n",
      "Epoch 27, Train Loss: 0.8132\n",
      "Epoch 27, Validation Loss: 0.8131\n",
      "Epoch 28, Train Loss: 0.8132\n",
      "Epoch 28, Validation Loss: 0.8127\n",
      "Epoch 29, Train Loss: 0.8132\n",
      "Epoch 29, Validation Loss: 0.8133\n",
      "Epoch 30, Train Loss: 0.8132\n",
      "Epoch 30, Validation Loss: 0.8129\n"
     ]
    }
   ],
   "source": [
    "# Train the CNN\n",
    "# Define the loss function and optimizer\n",
    "criterion = nn.CrossEntropyLoss()\n",
    "optimizer = optim.Adam(model.parameters(), lr=0.001)\n",
    "\n",
    "model.to(device)\n",
    "\n",
    "num_epochs = 100  # Number of training epochs\n",
    "best_val_loss = float('inf')  # Track the best validation loss\n",
    "\n",
    "# Training and Validation\n",
    "for epoch in tqdm(range(num_epochs)):\n",
    "    model.train()  # Set the model to training mode\n",
    "    running_loss = 0.0\n",
    "    for inputs, labels in train_loader:\n",
    "        inputs, labels = inputs.to(device).float(), labels.to(device)\n",
    "        \n",
    "        # Zero the parameter gradients\n",
    "        optimizer.zero_grad()\n",
    "\n",
    "        with torch.no_grad():\n",
    "            inputs_recon = SCAEModel(inputs)\n",
    "        \n",
    "        \n",
    "        # Forward + backward + optimize\n",
    "        outputs = model(inputs_recon)\n",
    "        loss = criterion(outputs, labels)\n",
    "        loss.backward()\n",
    "        optimizer.step()\n",
    "        \n",
    "        running_loss += loss.item()\n",
    "\n",
    "    # Print average training loss per epoch\n",
    "    avg_train_loss = running_loss / len(train_loader)\n",
    "    print(f'Epoch {epoch+1}, Train Loss: {avg_train_loss:.4f}')\n",
    "    \n",
    "    # Validation\n",
    "    model.eval()  # Set the model to evaluation mode\n",
    "    val_loss = 0.0\n",
    "    with torch.no_grad():\n",
    "        for inputs, labels in val_loader:\n",
    "            inputs, labels = inputs.to(device).float(), labels.to(device)\n",
    "            inputs_recon = SCAEModel(inputs)\n",
    "\n",
    "            outputs = model(inputs_recon)\n",
    "            loss = criterion(outputs, labels)\n",
    "            val_loss += loss.item()\n",
    "    \n",
    "    avg_val_loss = val_loss / len(val_loader)\n",
    "    print(f'Epoch {epoch+1}, Validation Loss: {avg_val_loss:.4f}')\n",
    "    \n",
    "    # Save the model if validation loss has decreased\n",
    "    if avg_val_loss < best_val_loss:\n",
    "        print(f'Validation Loss Decreased({best_val_loss:.4f}--->{avg_val_loss:.4f}) \\t Saving The Model')\n",
    "        best_val_loss = avg_val_loss\n",
    "        torch.save(model.state_dict(), '../models/CNN_best_model.pth')"
   ]
  },
  {
   "cell_type": "code",
   "execution_count": null,
   "metadata": {},
   "outputs": [],
   "source": []
  }
 ],
 "metadata": {
  "kernelspec": {
   "display_name": "ve-m",
   "language": "python",
   "name": "python3"
  },
  "language_info": {
   "codemirror_mode": {
    "name": "ipython",
    "version": 3
   },
   "file_extension": ".py",
   "mimetype": "text/x-python",
   "name": "python",
   "nbconvert_exporter": "python",
   "pygments_lexer": "ipython3",
   "version": "3.10.13"
  }
 },
 "nbformat": 4,
 "nbformat_minor": 2
}
