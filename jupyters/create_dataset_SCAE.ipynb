{
 "cells": [
  {
   "cell_type": "code",
   "execution_count": 27,
   "metadata": {},
   "outputs": [],
   "source": [
    "import sys\n",
    "import os\n",
    "import shutil\n",
    "\n",
    "# Add the parent directory to sys.path\n",
    "sys.path.append(os.path.abspath('..'))\n"
   ]
  },
  {
   "cell_type": "code",
   "execution_count": 2,
   "metadata": {},
   "outputs": [],
   "source": [
    "from pathlib import Path\n",
    "import sys\n",
    "\n",
    "from lib.Utilities import *\n",
    "import torch\n",
    "\n",
    "import h5py\n",
    "import pandas as pd\n",
    "import numpy as np\n",
    "import scipy\n",
    "from scipy.ndimage import gaussian_filter1d\n",
    "\n",
    "from PIL import Image\n",
    "\n",
    "from tqdm.notebook import tqdm"
   ]
  },
  {
   "cell_type": "code",
   "execution_count": 29,
   "metadata": {},
   "outputs": [],
   "source": [
    "# First purging all the existing data folders so we start from scratch\n",
    "# Define source and destination directories\n",
    "folders = ['../data/train/artifact', '../data/train/non-artifact', '../data/val/artifact', '../data/val/non-artifact', '../data/test/artifact', '../data/test/non-artifact']\n",
    "\n",
    "for folder in folders:\n",
    "\tif os.path.exists(folder):\n",
    "\t\tshutil.rmtree(folder)\n",
    "\tos.makedirs(folder)\n"
   ]
  },
  {
   "cell_type": "code",
   "execution_count": 30,
   "metadata": {},
   "outputs": [],
   "source": [
    "import numpy as np\n",
    "import matplotlib.pyplot as plt\n",
    "\n",
    "def plot_abp(abp_data):\n",
    "\n",
    "   # Plotting the two 1D arrays with different colors\n",
    "\tplt.figure(figsize=(10, 6))\n",
    "\tplt.plot(abp_data, label='ABP Data')\n",
    "\tplt.grid(True)\n",
    "\tplt.show()\n",
    "\n",
    "def display_image(image):\n",
    "\tplt.imshow(image, cmap='viridis', aspect='auto')\n",
    "\tplt.title('1D Signal Represented in 64x64 Image')\n",
    "\tplt.show()"
   ]
  },
  {
   "cell_type": "code",
   "execution_count": 31,
   "metadata": {},
   "outputs": [],
   "source": [
    "hdf5_file_path = '/home/ms5267@drexel.edu/moberg-precicecap/data/Patient_2021-12-21_04_16.h5'\n",
    "annotation_path = '/home/ms5267@drexel.edu/moberg-precicecap/data/20240207-annotations-export-workspace=precicecap-patient=7-annotation_group=90.csv'\n",
    "annotation_metadata = {\n",
    "\t'modality':'ART'\n",
    "\t,'location':'na'\n",
    "\t,'scale_wrt_hd5':1e3\n",
    "}\n",
    "# segment_length_sec = 3\n",
    "\n",
    "data_group_name='Waveforms/ART_na'\n",
    "timestamp_group_name='Waveforms/ART_na_Timestamps'\n",
    "sampling_frequency=125\n",
    "\n",
    "df_annotation = pd.read_csv(annotation_path)\n",
    "df_annotation_filtered = df_annotation[(df_annotation['modality']==annotation_metadata['modality']) & (df_annotation['location']==annotation_metadata['location'])]\n",
    "\n",
    "artifacts = df_annotation_filtered[[\"start_time\",\"end_time\"]].to_numpy() * int(annotation_metadata['scale_wrt_hd5'])"
   ]
  },
  {
   "cell_type": "code",
   "execution_count": 32,
   "metadata": {},
   "outputs": [],
   "source": [
    "with h5py.File(hdf5_file_path, 'r') as file:\n",
    "\tdataset = file[data_group_name]\n",
    "\ttimestamp = file[timestamp_group_name]\n",
    "\n",
    "\tdata, timestamp = dataset[:], timestamp[:]"
   ]
  },
  {
   "cell_type": "code",
   "execution_count": 33,
   "metadata": {},
   "outputs": [],
   "source": [
    "artifact_raw = []\n",
    "for art in artifacts:\n",
    "\tstart_idx = np.searchsorted(timestamp, art[0], side='left')\n",
    "\tend_idx = np.searchsorted(timestamp, art[1], side='left')\n",
    "\t# For 125Hz, the sample_len is 1250 for 10sec sample\n",
    "\t##################################################\n",
    "\n",
    "\tinterval_data = data[start_idx:end_idx]\n",
    "\tartifact_raw.append(interval_data)\n",
    "\t"
   ]
  },
  {
   "cell_type": "code",
   "execution_count": 34,
   "metadata": {},
   "outputs": [
    {
     "name": "stdout",
     "output_type": "stream",
     "text": [
      "Out of (7496,), 5140 are negative values\n",
      "Out of (915701,), 855434 are negative values\n",
      "Out of (1874,), 1202 are negative values\n",
      "Out of (4997,), 3261 are negative values\n"
     ]
    }
   ],
   "source": [
    "# Now filter the artifacts whose more than 50% data is less than zero\n",
    "# Calculate the percentage < 0 in the array\n",
    "artifact_raw_clean = []\n",
    "for arr in artifact_raw:\n",
    "\tif arr.size==0:\n",
    "\t\tcontinue\n",
    "\tpercentage = (np.sum(arr < 0) / arr.size) * 100\n",
    "\n",
    "\t# Check if the percentage is greater than 50%\n",
    "\tif percentage >= 50:\n",
    "\t\tcount_less_than_zero = np.sum(arr < 0)\n",
    "\t\tprint(f\"Out of {arr.shape}, {count_less_than_zero} are negative values\")\n",
    "\telse:\n",
    "\t\tartifact_raw_clean.append(arr)\n",
    "\t"
   ]
  },
  {
   "cell_type": "markdown",
   "metadata": {},
   "source": [
    "#### Now get the pulses, interpolate to 64 points, normalize to 0-1 and convert to image"
   ]
  },
  {
   "cell_type": "code",
   "execution_count": 35,
   "metadata": {},
   "outputs": [],
   "source": [
    "def get_pulses(signal, sigma=2):\n",
    "\tfiltered_signal = gaussian_filter1d(signal, sigma=sigma)\n",
    "\n",
    "\ttroughs, _ = scipy.signal.find_peaks(-filtered_signal)\n",
    "\tpulses = []\n",
    "\tfor i in range(len(troughs)-1):\n",
    "\t\ts=signal[troughs[i]:troughs[i+1]]\n",
    "\t\t\n",
    "\t\tif len(s)>0:\n",
    "\t\t\tpulses.append(s)\n",
    "\t\n",
    "\treturn pulses\n",
    "\t"
   ]
  },
  {
   "cell_type": "code",
   "execution_count": 36,
   "metadata": {},
   "outputs": [],
   "source": [
    "def interpolate_and_normalize(signal):\n",
    "\t# Original indices\n",
    "\tx_original = np.arange(len(signal))\n",
    "\n",
    "\t# New indices for the desired length of 64\n",
    "\tx_new = np.linspace(0, len(signal) - 1, 64)\n",
    "\n",
    "\t# Perform cubic spline interpolation\n",
    "\tcs = scipy.interpolate.CubicSpline(x_original, signal)\n",
    "\tinterpolated_array = cs(x_new)\n",
    "\n",
    "\t# Normalize the interpolated array to have values between 0 and 1\n",
    "\tnormalized_array = (interpolated_array - interpolated_array.min()) / (interpolated_array.max() - interpolated_array.min())\n",
    "\t\n",
    "\t# Convert the nan elements to zero\n",
    "\tnormalized_array[np.isnan(normalized_array)] = 0\n",
    "\n",
    "\treturn normalized_array"
   ]
  },
  {
   "cell_type": "code",
   "execution_count": 37,
   "metadata": {},
   "outputs": [],
   "source": [
    "def convert_1d_into_image(signal):\n",
    "\timage=np.zeros((64,64))\n",
    "\tfor x,y in enumerate(signal):\n",
    "\t\timage[x][int(y*63)]=1\n",
    "\t\n",
    "\timage = np.rot90(image, k=1)\n",
    "\n",
    "\treturn image\n",
    "\t"
   ]
  },
  {
   "cell_type": "code",
   "execution_count": 38,
   "metadata": {},
   "outputs": [
    {
     "data": {
      "image/png": "[encoded data removed]",
      "text/plain": [
       "<Figure size 1000x600 with 1 Axes>"
      ]
     },
     "metadata": {},
     "output_type": "display_data"
    },
    {
     "data": {
      "image/png": "[encoded data removed]",
      "text/plain": [
       "<Figure size 640x480 with 1 Axes>"
      ]
     },
     "metadata": {},
     "output_type": "display_data"
    }
   ],
   "source": [
    "signal=artifact_raw_clean[0]\n",
    "pulses = get_pulses(signal)\n",
    "\n",
    "p = pulses[0]\n",
    "d = interpolate_and_normalize(pulses[1])\n",
    "image = convert_1d_into_image(d)\n",
    "\n",
    "plot_abp(d)\n",
    "display_image(image)"
   ]
  },
  {
   "cell_type": "code",
   "execution_count": 39,
   "metadata": {},
   "outputs": [],
   "source": [
    "def create_images_from_signal(raw_clean_signal):\n",
    "\tcount_pulses=0\n",
    "\tfor signal in tqdm(raw_clean_signal):\n",
    "\t\tpulses = get_pulses(signal, sigma=3)\n",
    "\n",
    "\t\tfor idx, p in enumerate(pulses):\n",
    "\t\t\t\n",
    "\t\t\td = interpolate_and_normalize(p)\n",
    "\t\t\timage = convert_1d_into_image(d)\n",
    "\t\t\t\n",
    "\t\t\timage_to_save = Image.fromarray(image.astype('uint8')*255, 'L')\n",
    "\n",
    "\t\t\timage_to_save.save(f'../data/train/artifact/artifact_{count_pulses}.jpg')\n",
    "\t\t\tcount_pulses+=1\n",
    "\n",
    "\tprint(f'{count_pulses+1} number of pulse images have been created.')\t\t"
   ]
  },
  {
   "cell_type": "code",
   "execution_count": 40,
   "metadata": {},
   "outputs": [
    {
     "data": {
      "application/vnd.jupyter.widget-view+json": {
       "model_id": "b9c3fe22476a4c5ea0620896d7b04c03",
       "version_major": 2,
       "version_minor": 0
      },
      "text/plain": [
       "  0%|          | 0/214 [00:00<?, ?it/s]"
      ]
     },
     "metadata": {},
     "output_type": "display_data"
    },
    {
     "name": "stderr",
     "output_type": "stream",
     "text": [
      "/tmp/ipykernel_1157340/1468225437.py:13: RuntimeWarning: invalid value encountered in divide\n",
      "  normalized_array = (interpolated_array - interpolated_array.min()) / (interpolated_array.max() - interpolated_array.min())\n"
     ]
    },
    {
     "name": "stdout",
     "output_type": "stream",
     "text": [
      "15784 number of pulse images have been created.\n"
     ]
    }
   ],
   "source": [
    "create_images_from_signal(artifact_raw_clean)"
   ]
  },
  {
   "cell_type": "markdown",
   "metadata": {},
   "source": [
    "##### Our target here is to create the same number of non-artifact images. Randomly sample 10 seconds of data, check if there is any overlap with the artifact intervals, if not:\n",
    "- Gaussian filter \n",
    "- Get Pulses\n",
    "- Interpolate Normalize\n",
    "- Create Image and store"
   ]
  },
  {
   "cell_type": "code",
   "execution_count": 41,
   "metadata": {},
   "outputs": [],
   "source": [
    "def has_artifact(candidate_interval, artifacts=artifacts):\n",
    "\tfor artifact in artifacts:\n",
    "\t\t# Calculate the maximum start time and minimum end time between candidate_interval and artifact\n",
    "\t\tstart_max = max(candidate_interval[0], artifact[0])\n",
    "\t\tend_min = min(candidate_interval[1], artifact[1])\n",
    "\t\t\n",
    "\t\t# Check for overlap\n",
    "\t\tif start_max < end_min:\n",
    "\t\t\t# If there is an overlap, return True\n",
    "\t\t\treturn True\n",
    "\t\n",
    "\t# If no overlap is found with any artifact, return False\n",
    "\treturn False\n",
    "\n",
    "\n",
    "count_non_artifact_data = []\n",
    "\n",
    "# Generate 5000 unique random values from 0 to 58360000 without replacement\n",
    "random_values = np.random.choice(range(len(timestamp)), 5000, replace=False)\n",
    "\n",
    "na_signals = []\n",
    "for r in random_values:\n",
    "\tstart_idx_na, end_idx_na = r, r+1250\n",
    "\tcandidate_timestamp = timestamp[start_idx_na:end_idx_na]\n",
    "\t\n",
    "\tif not has_artifact(candidate_timestamp):\n",
    "\t\tna_signals.append(data[start_idx_na:end_idx_na])\n",
    "\n",
    "\t\t# TODO: add filter for anomalies just to be safe\t"
   ]
  },
  {
   "cell_type": "code",
   "execution_count": 42,
   "metadata": {},
   "outputs": [
    {
     "data": {
      "text/plain": [
       "4861"
      ]
     },
     "execution_count": 42,
     "metadata": {},
     "output_type": "execute_result"
    }
   ],
   "source": [
    "len(na_signals)"
   ]
  },
  {
   "cell_type": "code",
   "execution_count": 43,
   "metadata": {},
   "outputs": [],
   "source": [
    "def create_images_from_signal_na(raw_clean_signal, total_number=15784):\n",
    "\tcount_pulses=0\n",
    "\n",
    "\tfor signal in tqdm(raw_clean_signal):\n",
    "\t\tpulses = get_pulses(signal,sigma=3)\n",
    "\n",
    "\t\tfor p in pulses:\n",
    "\t\t\t\n",
    "\t\t\td = interpolate_and_normalize(p)\n",
    "\t\t\timage = convert_1d_into_image(d)\n",
    "\t\t\t\n",
    "\t\t\timage_to_save = Image.fromarray(image.astype('uint8')*255, 'L')\n",
    "\n",
    "\t\t\timage_to_save.save(f'../data/train/non-artifact/non_artifact_{count_pulses}.jpg')\n",
    "\t\t\tcount_pulses+=1\n",
    "\n",
    "\t\t\tif count_pulses>=total_number:\n",
    "\t\t\t\tprint(f'{count_pulses+1} number of pulse images (non-artifact ridden) have been created.')\t\t\n",
    "\t\t\t\treturn 1\n",
    "\t\n",
    "\tprint(f'{count_pulses+1} number of pulse images (non-artifact ridden) have been created.')\t\t\n"
   ]
  },
  {
   "cell_type": "code",
   "execution_count": 44,
   "metadata": {},
   "outputs": [
    {
     "data": {
      "application/vnd.jupyter.widget-view+json": {
       "model_id": "4ae424d0436b42bbbfbc79e732985889",
       "version_major": 2,
       "version_minor": 0
      },
      "text/plain": [
       "  0%|          | 0/4861 [00:00<?, ?it/s]"
      ]
     },
     "metadata": {},
     "output_type": "display_data"
    },
    {
     "name": "stdout",
     "output_type": "stream",
     "text": [
      "15785 number of pulse images (non-artifact ridden) have been created.\n"
     ]
    },
    {
     "data": {
      "text/plain": [
       "1"
      ]
     },
     "execution_count": 44,
     "metadata": {},
     "output_type": "execute_result"
    }
   ],
   "source": [
    "create_images_from_signal_na(na_signals)"
   ]
  },
  {
   "cell_type": "markdown",
   "metadata": {},
   "source": [
    "### Split the train such that 70% is for training 10% is for validation and 20% is for testing"
   ]
  },
  {
   "cell_type": "code",
   "execution_count": 45,
   "metadata": {},
   "outputs": [],
   "source": [
    "import os\n",
    "import shutil\n",
    "from random import sample\n",
    "\n",
    "# Define source and destination directories\n",
    "source_dirs = ['../data/train/artifact', '../data/train/non-artifact']\n",
    "val_dirs = ['../data/val/artifact', '../data/val/non-artifact']\n",
    "test_dirs = ['../data/test/artifact', '../data/test/non-artifact']\n",
    "\n",
    "# Create destination directories if they don't exist\n",
    "for d in val_dirs + test_dirs:\n",
    "\tos.makedirs(d, exist_ok=True)\n",
    "\n",
    "# Function to move files\n",
    "def move_files(src_dir, dest_dir, n):\n",
    "\tfiles = os.listdir(src_dir)\n",
    "\t# n = int(len(files) * fraction)\n",
    "\tfiles_to_move = sample(files, n)  # Randomly select files to move\n",
    "\n",
    "\tfor f in files_to_move:\n",
    "\t\tshutil.move(os.path.join(src_dir, f), os.path.join(dest_dir, f))\n",
    "\n",
    "# Move 10% to val and 20% to test directories\n",
    "\n",
    "files = os.listdir(source_dirs[0])\n",
    "test_instance_count = int(0.2*len(files))\n",
    "val_instance_count = int(0.1*len(files))\n",
    "\n",
    "for src, val, test in zip(source_dirs, val_dirs, test_dirs):\n",
    "\tmove_files(src, val, val_instance_count)  # Move 10% to validation\n",
    "\tmove_files(src, test, test_instance_count)  # Move 20% to testing\n",
    "\n",
    "\n"
   ]
  },
  {
   "cell_type": "code",
   "execution_count": 46,
   "metadata": {},
   "outputs": [
    {
     "name": "stdout",
     "output_type": "stream",
     "text": [
      "../data/train/artifact has 11049 images in it\n",
      "../data/val/artifact has 1578 images in it\n",
      "../data/test/artifact has 3156 images in it\n",
      "../data/train/non-artifact has 11050 images in it\n",
      "../data/val/non-artifact has 1578 images in it\n",
      "../data/test/non-artifact has 3156 images in it\n"
     ]
    }
   ],
   "source": [
    "### Show the total number of files in each directory\n",
    "for folders in zip(source_dirs, val_dirs, test_dirs):\n",
    "\tfor folder in folders:\n",
    "\t\tprint(f'{folder} has {len(os.listdir(folder))} images in it')"
   ]
  },
  {
   "cell_type": "code",
   "execution_count": null,
   "metadata": {},
   "outputs": [],
   "source": []
  }
 ],
 "metadata": {
  "kernelspec": {
   "display_name": "Python 3 (ipykernel)",
   "language": "python",
   "name": "python3"
  },
  "language_info": {
   "codemirror_mode": {
    "name": "ipython",
    "version": 3
   },
   "file_extension": ".py",
   "mimetype": "text/x-python",
   "name": "python",
   "nbconvert_exporter": "python",
   "pygments_lexer": "ipython3",
   "version": "3.10.13"
  }
 },
 "nbformat": 4,
 "nbformat_minor": 2
}
